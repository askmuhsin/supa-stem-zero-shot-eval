{
 "cells": [
  {
   "cell_type": "code",
   "execution_count": 2,
   "metadata": {},
   "outputs": [],
   "source": [
    "%load_ext autoreload\n",
    "%autoreload 2"
   ]
  },
  {
   "cell_type": "code",
   "execution_count": 10,
   "metadata": {},
   "outputs": [],
   "source": [
    "from datasets import load_dataset\n",
    "\n",
    "import pandas as pd"
   ]
  },
  {
   "cell_type": "code",
   "execution_count": 20,
   "metadata": {},
   "outputs": [],
   "source": [
    "dataset_name = \"Supa-AI/STEM-en-ms\"\n",
    "language = 'en'\n",
    "dataset = load_dataset(dataset_name, name=f\"data_{language}\", split=\"eval\")"
   ]
  },
  {
   "cell_type": "code",
   "execution_count": 21,
   "metadata": {},
   "outputs": [],
   "source": [
    "data = pd.DataFrame(dataset)"
   ]
  },
  {
   "cell_type": "code",
   "execution_count": 22,
   "metadata": {},
   "outputs": [],
   "source": [
    "data_without_figures = data[data[\"Figures\"].apply(lambda x: isinstance(x, list) and len(x) == 0)]"
   ]
  },
  {
   "cell_type": "code",
   "execution_count": 23,
   "metadata": {},
   "outputs": [
    {
     "data": {
      "text/html": [
       "<div>\n",
       "<style scoped>\n",
       "    .dataframe tbody tr th:only-of-type {\n",
       "        vertical-align: middle;\n",
       "    }\n",
       "\n",
       "    .dataframe tbody tr th {\n",
       "        vertical-align: top;\n",
       "    }\n",
       "\n",
       "    .dataframe thead th {\n",
       "        text-align: right;\n",
       "    }\n",
       "</style>\n",
       "<table border=\"1\" class=\"dataframe\">\n",
       "  <thead>\n",
       "    <tr style=\"text-align: right;\">\n",
       "      <th></th>\n",
       "      <th>FileName</th>\n",
       "      <th>IBSN</th>\n",
       "      <th>Subject</th>\n",
       "      <th>Topic</th>\n",
       "      <th>Questions</th>\n",
       "      <th>Figures</th>\n",
       "      <th>Label</th>\n",
       "      <th>Options</th>\n",
       "      <th>Answers</th>\n",
       "    </tr>\n",
       "  </thead>\n",
       "  <tbody>\n",
       "    <tr>\n",
       "      <th>0</th>\n",
       "      <td>FC064244_C4_Q12</td>\n",
       "      <td>9786294703681</td>\n",
       "      <td>Physics</td>\n",
       "      <td>Heat</td>\n",
       "      <td>A 0.5 kg solid is heated from 30^\\circ{C} to \\...</td>\n",
       "      <td>[]</td>\n",
       "      <td>[]</td>\n",
       "      <td>['A: 50', 'B: 60', 'C: 70', 'D: 80']</td>\n",
       "      <td>C</td>\n",
       "    </tr>\n",
       "    <tr>\n",
       "      <th>1</th>\n",
       "      <td>QC174032_C4_Q9</td>\n",
       "      <td>9789672856504</td>\n",
       "      <td>Mathematics</td>\n",
       "      <td>nan</td>\n",
       "      <td>Given  x_{2}- 23_{4} = 312_{4}, find the value...</td>\n",
       "      <td>[]</td>\n",
       "      <td>[]</td>\n",
       "      <td>['A: 1001', 'B: 10001', 'C: 100001', 'D: 10000...</td>\n",
       "      <td>D</td>\n",
       "    </tr>\n",
       "    <tr>\n",
       "      <th>3</th>\n",
       "      <td>QC174032_C3_Q1</td>\n",
       "      <td>9789672856504</td>\n",
       "      <td>Mathematics</td>\n",
       "      <td>Logic Reasoning</td>\n",
       "      <td>Which of the following is a statement?</td>\n",
       "      <td>[]</td>\n",
       "      <td>[]</td>\n",
       "      <td>['A: Covid-19 is an illness caused by a novel ...</td>\n",
       "      <td>A</td>\n",
       "    </tr>\n",
       "    <tr>\n",
       "      <th>5</th>\n",
       "      <td>KM24SMA_C1_Q12</td>\n",
       "      <td>9789837740372</td>\n",
       "      <td>Mathematics</td>\n",
       "      <td>nan</td>\n",
       "      <td>Which of the following points satisfies the li...</td>\n",
       "      <td>[]</td>\n",
       "      <td>[]</td>\n",
       "      <td>['A: (-3,1)', 'B: (-3,2)', 'C: (-3,3)', 'D: (-...</td>\n",
       "      <td>D</td>\n",
       "    </tr>\n",
       "    <tr>\n",
       "      <th>7</th>\n",
       "      <td>KM24SMA_C5_Q22</td>\n",
       "      <td>9789837740372</td>\n",
       "      <td>Mathematics</td>\n",
       "      <td>nan</td>\n",
       "      <td>Syameer earns a monthly income of RM8 600. He ...</td>\n",
       "      <td>[]</td>\n",
       "      <td>[]</td>\n",
       "      <td>['A: RM3 560', 'B: RM4 350', 'C: RM4 560', 'D:...</td>\n",
       "      <td>D</td>\n",
       "    </tr>\n",
       "    <tr>\n",
       "      <th>...</th>\n",
       "      <td>...</td>\n",
       "      <td>...</td>\n",
       "      <td>...</td>\n",
       "      <td>...</td>\n",
       "      <td>...</td>\n",
       "      <td>...</td>\n",
       "      <td>...</td>\n",
       "      <td>...</td>\n",
       "      <td>...</td>\n",
       "    </tr>\n",
       "    <tr>\n",
       "      <th>601</th>\n",
       "      <td>FC064244_C4_Q18</td>\n",
       "      <td>9786294703681</td>\n",
       "      <td>Physics</td>\n",
       "      <td>Heat</td>\n",
       "      <td>Why does steam causes more severe burns than b...</td>\n",
       "      <td>[]</td>\n",
       "      <td>[]</td>\n",
       "      <td>['A: The specific latent heat of steam is high...</td>\n",
       "      <td>A</td>\n",
       "    </tr>\n",
       "    <tr>\n",
       "      <th>605</th>\n",
       "      <td>FC064244_C2_Q26</td>\n",
       "      <td>9786294703681</td>\n",
       "      <td>Physics</td>\n",
       "      <td>Force and Motion I</td>\n",
       "      <td>Eddy throws a rugby ball with a force of 1 250...</td>\n",
       "      <td>[]</td>\n",
       "      <td>[]</td>\n",
       "      <td>['A: 80 m s^-1', 'B: 95 m s^-1', 'C: 103 m s^-...</td>\n",
       "      <td>D</td>\n",
       "    </tr>\n",
       "    <tr>\n",
       "      <th>608</th>\n",
       "      <td>KM24SMA_C1_Q3</td>\n",
       "      <td>9789837740372</td>\n",
       "      <td>Mathematics</td>\n",
       "      <td>nan</td>\n",
       "      <td>Determine the number of vertices of a tree if ...</td>\n",
       "      <td>[]</td>\n",
       "      <td>[]</td>\n",
       "      <td>['A: 2', 'B: 4', 'C: 5', 'D: 6']</td>\n",
       "      <td>B</td>\n",
       "    </tr>\n",
       "    <tr>\n",
       "      <th>609</th>\n",
       "      <td>KM24SMA_C1_Q39</td>\n",
       "      <td>9789837740372</td>\n",
       "      <td>Mathematics</td>\n",
       "      <td>nan</td>\n",
       "      <td>Which of the following is not an item of indiv...</td>\n",
       "      <td>[]</td>\n",
       "      <td>[]</td>\n",
       "      <td>['A: Medical insurance', 'B: Allowances for pa...</td>\n",
       "      <td>B</td>\n",
       "    </tr>\n",
       "    <tr>\n",
       "      <th>610</th>\n",
       "      <td>KM24SMA_C1_Q15</td>\n",
       "      <td>9789837740372</td>\n",
       "      <td>Mathematics</td>\n",
       "      <td>nan</td>\n",
       "      <td>A road is drawn with a length of 5 cm on a map...</td>\n",
       "      <td>[]</td>\n",
       "      <td>[]</td>\n",
       "      <td>['A: 5', 'B: 20', 'C: 50', 'D: 100']</td>\n",
       "      <td>B</td>\n",
       "    </tr>\n",
       "  </tbody>\n",
       "</table>\n",
       "<p>322 rows × 9 columns</p>\n",
       "</div>"
      ],
      "text/plain": [
       "            FileName           IBSN      Subject               Topic  \\\n",
       "0    FC064244_C4_Q12  9786294703681      Physics                Heat   \n",
       "1     QC174032_C4_Q9  9789672856504  Mathematics                 nan   \n",
       "3     QC174032_C3_Q1  9789672856504  Mathematics     Logic Reasoning   \n",
       "5     KM24SMA_C1_Q12  9789837740372  Mathematics                 nan   \n",
       "7     KM24SMA_C5_Q22  9789837740372  Mathematics                 nan   \n",
       "..               ...            ...          ...                 ...   \n",
       "601  FC064244_C4_Q18  9786294703681      Physics                Heat   \n",
       "605  FC064244_C2_Q26  9786294703681      Physics  Force and Motion I   \n",
       "608    KM24SMA_C1_Q3  9789837740372  Mathematics                 nan   \n",
       "609   KM24SMA_C1_Q39  9789837740372  Mathematics                 nan   \n",
       "610   KM24SMA_C1_Q15  9789837740372  Mathematics                 nan   \n",
       "\n",
       "                                             Questions Figures Label  \\\n",
       "0    A 0.5 kg solid is heated from 30^\\circ{C} to \\...      []    []   \n",
       "1    Given  x_{2}- 23_{4} = 312_{4}, find the value...      []    []   \n",
       "3               Which of the following is a statement?      []    []   \n",
       "5    Which of the following points satisfies the li...      []    []   \n",
       "7    Syameer earns a monthly income of RM8 600. He ...      []    []   \n",
       "..                                                 ...     ...   ...   \n",
       "601  Why does steam causes more severe burns than b...      []    []   \n",
       "605  Eddy throws a rugby ball with a force of 1 250...      []    []   \n",
       "608  Determine the number of vertices of a tree if ...      []    []   \n",
       "609  Which of the following is not an item of indiv...      []    []   \n",
       "610  A road is drawn with a length of 5 cm on a map...      []    []   \n",
       "\n",
       "                                               Options Answers  \n",
       "0                 ['A: 50', 'B: 60', 'C: 70', 'D: 80']       C  \n",
       "1    ['A: 1001', 'B: 10001', 'C: 100001', 'D: 10000...       D  \n",
       "3    ['A: Covid-19 is an illness caused by a novel ...       A  \n",
       "5    ['A: (-3,1)', 'B: (-3,2)', 'C: (-3,3)', 'D: (-...       D  \n",
       "7    ['A: RM3 560', 'B: RM4 350', 'C: RM4 560', 'D:...       D  \n",
       "..                                                 ...     ...  \n",
       "601  ['A: The specific latent heat of steam is high...       A  \n",
       "605  ['A: 80 m s^-1', 'B: 95 m s^-1', 'C: 103 m s^-...       D  \n",
       "608                   ['A: 2', 'B: 4', 'C: 5', 'D: 6']       B  \n",
       "609  ['A: Medical insurance', 'B: Allowances for pa...       B  \n",
       "610               ['A: 5', 'B: 20', 'C: 50', 'D: 100']       B  \n",
       "\n",
       "[322 rows x 9 columns]"
      ]
     },
     "execution_count": 23,
     "metadata": {},
     "output_type": "execute_result"
    }
   ],
   "source": [
    "data_without_figures"
   ]
  },
  {
   "cell_type": "code",
   "execution_count": 81,
   "metadata": {},
   "outputs": [
    {
     "name": "stdout",
     "output_type": "stream",
     "text": [
      "Question: A 0.5 kg solid is heated from 30^\\circ{C} to \\theta^\\circ{C} with 10 400 J of energy. If its specific heat capacity is 520\\ J\\ kg^{-1}\\ ^{\\circ}C^{-1}, what is the value of \\theta, in ^{\\circ}C^{-1}?\n",
      "Choices:\n",
      "    A: 50\n",
      "    B: 60\n",
      "    C: 70\n",
      "    D: 80\n",
      "\n",
      "Answer: \n"
     ]
    }
   ],
   "source": [
    "def format_question_prompt(item: dict) -> str:\n",
    "    options = item['Options'] if isinstance(item['Options'], list) else eval(item['Options'])\n",
    "    formatted_options = '\\n'.join(f\"    {opt}\" for opt in options)\n",
    "    return (\n",
    "        f\"Question: {item['Questions']}\\n\"\n",
    "        f\"Choices:\\n\"\n",
    "        f\"{formatted_options}\\n\\n\"\n",
    "        f\"Answer: \"\n",
    "    )\n",
    "\n",
    "for index, row in data_without_figures.iterrows():\n",
    "    input_prompt = format_question_prompt(row.to_dict())\n",
    "    print(input_prompt)\n",
    "    break"
   ]
  },
  {
   "cell_type": "code",
   "execution_count": 82,
   "metadata": {},
   "outputs": [
    {
     "data": {
      "text/plain": [
       "'C'"
      ]
     },
     "execution_count": 83,
     "metadata": {},
     "output_type": "execute_result"
    }
   ],
   "source": [
    "data_without_figures['Answers'].iloc[0]"
   ]
  },
  {
   "cell_type": "code",
   "execution_count": null,
   "metadata": {},
   "outputs": [],
   "source": []
  },
  {
   "cell_type": "code",
   "execution_count": null,
   "metadata": {},
   "outputs": [],
   "source": []
  },
  {
   "cell_type": "code",
   "execution_count": 27,
   "metadata": {},
   "outputs": [
    {
     "data": {
      "text/plain": [
       "{'FileName': 'KM24SMA_C5_Q5',\n",
       " 'IBSN': '9789837740372',\n",
       " 'Subject': 'Mathematics',\n",
       " 'Topic': 'nan',\n",
       " 'Questions': 'Factorise completely: 9y^{2}-9.',\n",
       " 'Figures': [],\n",
       " 'Label': [],\n",
       " 'Options': \"['A: (3y+3)(3y-3)', 'B: 9(y^{2}-1)', 'C: (9y+9)(9y-9)', 'D: 9(y+1)(y-1)']\",\n",
       " 'Answers': 'D'}"
      ]
     },
     "execution_count": 27,
     "metadata": {},
     "output_type": "execute_result"
    }
   ],
   "source": [
    "# data_without_figures.sample(1).iloc[0].to_dict()\n",
    "\n",
    "# {'FileName': 'KM24SMA_C5_Q5',\n",
    "#  'IBSN': '9789837740372',\n",
    "#  'Subject': 'Mathematics',\n",
    "#  'Topic': 'nan',\n",
    "#  'Questions': 'Factorise completely: 9y^{2}-9.',\n",
    "#  'Figures': [],\n",
    "#  'Label': [],\n",
    "#  'Options': \"['A: (3y+3)(3y-3)', 'B: 9(y^{2}-1)', 'C: (9y+9)(9y-9)', 'D: 9(y+1)(y-1)']\",\n",
    "#  'Answers': 'D'}"
   ]
  },
  {
   "cell_type": "code",
   "execution_count": null,
   "metadata": {},
   "outputs": [],
   "source": []
  }
 ],
 "metadata": {
  "kernelspec": {
   "display_name": "dev_base",
   "language": "python",
   "name": "python3"
  },
  "language_info": {
   "codemirror_mode": {
    "name": "ipython",
    "version": 3
   },
   "file_extension": ".py",
   "mimetype": "text/x-python",
   "name": "python",
   "nbconvert_exporter": "python",
   "pygments_lexer": "ipython3",
   "version": "3.11.5"
  }
 },
 "nbformat": 4,
 "nbformat_minor": 2
}
