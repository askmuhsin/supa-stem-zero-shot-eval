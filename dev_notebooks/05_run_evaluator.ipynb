{
 "cells": [
  {
   "cell_type": "code",
   "execution_count": 1,
   "metadata": {},
   "outputs": [],
   "source": [
    "%load_ext autoreload\n",
    "%autoreload 2"
   ]
  },
  {
   "cell_type": "code",
   "execution_count": 2,
   "metadata": {},
   "outputs": [],
   "source": [
    "from eval import ModelEvaluator\n",
    "from dotenv import load_dotenv\n",
    "import logging"
   ]
  },
  {
   "cell_type": "code",
   "execution_count": 3,
   "metadata": {},
   "outputs": [
    {
     "data": {
      "text/plain": [
       "True"
      ]
     },
     "execution_count": 3,
     "metadata": {},
     "output_type": "execute_result"
    }
   ],
   "source": [
    "logging.basicConfig(level=logging.INFO)\n",
    "load_dotenv()"
   ]
  },
  {
   "cell_type": "code",
   "execution_count": 5,
   "metadata": {},
   "outputs": [
    {
     "name": "stderr",
     "output_type": "stream",
     "text": [
      "INFO:eval:Loading cache from eval_cache.json\n"
     ]
    }
   ],
   "source": [
    "evaluator = ModelEvaluator()\n"
   ]
  },
  {
   "cell_type": "code",
   "execution_count": 7,
   "metadata": {},
   "outputs": [
    {
     "name": "stderr",
     "output_type": "stream",
     "text": [
      "INFO:eval:Loading dataset...\n",
      "INFO:root:Loading dataset Supa-AI/STEM-en-ms with language 'en' and split 'eval'\n",
      "INFO:root:Dataset loaded. Shape: (614, 9)\n",
      "INFO:root:Filtering out questions with figures\n",
      "INFO:root:Filtered dataset shape: (322, 9)\n",
      "INFO:eval:Evaluating 3 questions...\n",
      "INFO:eval:Processing question 1/3 (ID: 409)\n",
      "INFO:httpx:HTTP Request: POST https://router.huggingface.co/together/chat/completions \"HTTP/1.1 200 OK\"\n",
      "INFO:root:Completion successful with tokens 252\n",
      "INFO:httpx:HTTP Request: POST https://router.huggingface.co/hf-inference/v1/chat/completions \"HTTP/1.1 200 OK\"\n",
      "INFO:root:Completion successful with tokens 511\n",
      "INFO:eval:Current accuracy: 100.00% (1/1)\n",
      "INFO:eval:Processing question 2/3 (ID: 401)\n",
      "INFO:httpx:HTTP Request: POST https://router.huggingface.co/together/chat/completions \"HTTP/1.1 200 OK\"\n",
      "INFO:root:Completion successful with tokens 396\n",
      "INFO:httpx:HTTP Request: POST https://router.huggingface.co/hf-inference/v1/chat/completions \"HTTP/1.1 200 OK\"\n",
      "INFO:root:Completion successful with tokens 572\n",
      "INFO:eval:Current accuracy: 100.00% (2/2)\n",
      "INFO:eval:Processing question 3/3 (ID: 398)\n",
      "INFO:httpx:HTTP Request: POST https://router.huggingface.co/together/chat/completions \"HTTP/1.1 200 OK\"\n",
      "INFO:root:Completion successful with tokens 486\n",
      "INFO:httpx:HTTP Request: POST https://router.huggingface.co/hf-inference/v1/chat/completions \"HTTP/1.1 200 OK\"\n",
      "INFO:root:Completion successful with tokens 669\n",
      "INFO:eval:Current accuracy: 100.00% (3/3)\n",
      "INFO:eval:Saving cache to eval_cache.json\n",
      "INFO:eval:\n",
      "Evaluation completed:\n",
      "INFO:eval:Accuracy: 100.00% (3/3)\n",
      "INFO:eval:Duration: 0:00:57\n",
      "INFO:eval:Number of mistakes: 0\n"
     ]
    }
   ],
   "source": [
    "results = evaluator.evaluate_dataset(sample_size=3)\n"
   ]
  },
  {
   "cell_type": "code",
   "execution_count": 8,
   "metadata": {},
   "outputs": [
    {
     "data": {
      "text/plain": [
       "EvalResult(total_questions=3, correct_answers=3, accuracy=100.0, duration_seconds=57.866034, timestamp='2025-02-22T14:58:10.354376', mistakes=[], trace={409: {'id': 409, 'question': 'Instruction: Solve the problem, ensure your final answer includes the choice letter (A, B, C, or D).\\nQuestion: Which of the following factor will effect the resistivity?\\nChoices:\\n    A: Length\\n    B: Cross-sectional area\\n    C: Resistance\\n    D: Temperature\\n\\nSolution:  ', 'correct_answer': 'D', 'model_answer': 'D', 'model_response': \"To determine which factor affects the resistivity, let's analyze each option:\\n\\n**A: Length**  \\nLength affects the resistance of a material, not its resistivity. Resistance is directly proportional to the length of the conductor, but resistivity is an intrinsic property of the material itself.\\n\\n**B: Cross-sectional area**  \\nCross-sectional area also affects the resistance of a material, not its resistivity. Resistance is inversely proportional to the cross-sectional area, but resistivity remains constant for a given material.\\n\\n**C: Resistance**  \\nResistance is a property that depends on the material's resistivity, length, and cross-sectional area. However, resistivity is an intrinsic property of the material and is not directly affected by resistance.\\n\\n**D: Temperature**  \\nTemperature directly affects the resistivity of a material. For most materials, resistivity increases with temperature due to increased atomic vibrations that impede electron flow.\\n\\n**Final Answer:**  \\n**D: Temperature**\", 'reasoning': ' <answer_sheet_breakdown>\\n- Choices mentioned: [\"A\", \"B\", \"C\", \"D\"]\\n- Eliminated: [\"A\", \"B\"]\\n- Selection evidence: \"Final Answer: D: Temperature\"\\n- Uncertainty: [no]\\n</answer_sheet_breakdown>\\n<answer>D</answer>'}, 401: {'id': 401, 'question': 'Instruction: Solve the problem, ensure your final answer includes the choice letter (A, B, C, or D).\\nQuestion: Given that the photon energy of red light is 2.93\\\\times10^{-19} J and the work function of sodium metal is 2.28 eV. What would happen if the red light shone on the sodium metal surface? [1 eV = 1.60 \\\\times 10^{-19} J]\\nChoices:\\n    A: The photoelectric effect does not occur.\\n    B: The electrons escape from the metal surface instantaneously.\\n    C: The maximum kinetic energy of photoelectrons increases.\\n    D: The light frequency exceeds the threshold frequency.\\n\\nSolution:  ', 'correct_answer': 'A', 'model_answer': 'A', 'model_response': 'To determine what happens when red light shines on the sodium metal surface, we need to compare the photon energy of the red light with the work function of sodium metal.\\n\\n1. **Convert the work function of sodium metal to joules:**\\n   \\\\[\\n   \\\\text{Work function} = 2.28 \\\\, \\\\text{eV} \\\\times 1.60 \\\\times 10^{-19} \\\\, \\\\text{J/eV} = 3.648 \\\\times 10^{-19} \\\\, \\\\text{J}\\n   \\\\]\\n\\n2. **Compare the photon energy of red light with the work function:**\\n   \\\\[\\n   \\\\text{Photon energy of red light} = 2.93 \\\\times 10^{-19} \\\\, \\\\text{J}\\n   \\\\]\\n   \\\\[\\n   2.93 \\\\times 10^{-19} \\\\, \\\\text{J} < 3.648 \\\\times 10^{-19} \\\\, \\\\text{J}\\n   \\\\]\\n\\nSince the photon energy of the red light is less than the work function of sodium metal, the photoelectric effect does not occur. The electrons will not be emitted from the metal surface.\\n\\n**Final Answer:** A: The photoelectric effect does not occur.', 'reasoning': ' <answer_sheet_breakdown>\\n- Choices mentioned: [\"A: The photoelectric effect does not occur\"]\\n- Eliminated: []\\n- Selection evidence: \"Final Answer: A: The photoelectric effect does not occur.\"\\n- Uncertainty: [no]\\n</answer_sheet_breakdown>\\n<answer>A</answer>'}, 398: {'id': 398, 'question': 'Instruction: Solve the problem, ensure your final answer includes the choice letter (A, B, C, or D).\\nQuestion: Express  {\\\\frac 5{x+ 5}- \\\\frac {5x}{x^{2}+ 6x+ 5}}  as  a single fraction in its simplest form.\\nChoices:\\n    A: \\\\frac{5}{(x+1)(x+5)}\\n    B: \\\\frac{10}{(x+1)(x+5)}\\n    C: \\\\frac{5}{x+5}\\n    D: \\\\frac{10}{x+5}\\n\\nSolution:  ', 'correct_answer': 'A', 'model_answer': 'A', 'model_response': 'To solve the expression \\\\(\\\\frac{5}{x+5} - \\\\frac{5x}{x^{2}+6x+5}\\\\) and simplify it into a single fraction, follow these steps:\\n\\n1. **Factor the denominator of the second fraction:**\\n   \\\\[\\n   x^{2} + 6x + 5 = (x + 1)(x + 5)\\n   \\\\]\\n   So, the expression becomes:\\n   \\\\[\\n   \\\\frac{5}{x+5} - \\\\frac{5x}{(x+1)(x+5)}\\n   \\\\]\\n\\n2. **Find a common denominator:**\\n   The common denominator for both fractions is \\\\((x+1)(x+5)\\\\).\\n\\n3. **Rewrite each fraction with the common denominator:**\\n   \\\\[\\n   \\\\frac{5}{x+5} = \\\\frac{5(x+1)}{(x+1)(x+5)}\\n   \\\\]\\n   \\\\[\\n   \\\\frac{5x}{(x+1)(x+5)} = \\\\frac{5x}{(x+1)(x+5)}\\n   \\\\]\\n\\n4. **Combine the fractions:**\\n   \\\\[\\n   \\\\frac{5(x+1) - 5x}{(x+1)(x+5)}\\n   \\\\]\\n\\n5. **Simplify the numerator:**\\n   \\\\[\\n   5(x+1) - 5x = 5x + 5 - 5x = 5\\n   \\\\]\\n\\n6. **Write the simplified fraction:**\\n   \\\\[\\n   \\\\frac{5}{(x+1)(x+5)}\\n   \\\\]\\n\\nThe final answer is:\\n\\n**A: \\\\(\\\\frac{5}{(x+1)(x+5)}\\\\)**', 'reasoning': ' <answer_sheet_breakdown>\\n- Choices mentioned: [\"A\"]\\n- Eliminated: [\"B\", \"C\", \"D\", \"X\"]\\n- Selection evidence: \"The final answer is: A: ...\"\\n- Uncertainty: [no]\\n</answer_sheet_breakdown>\\n<answer>A</answer>'}})"
      ]
     },
     "execution_count": 8,
     "metadata": {},
     "output_type": "execute_result"
    }
   ],
   "source": [
    "results"
   ]
  },
  {
   "cell_type": "code",
   "execution_count": 10,
   "metadata": {},
   "outputs": [
    {
     "data": {
      "text/plain": [
       "{409: {'id': 409,\n",
       "  'question': 'Instruction: Solve the problem, ensure your final answer includes the choice letter (A, B, C, or D).\\nQuestion: Which of the following factor will effect the resistivity?\\nChoices:\\n    A: Length\\n    B: Cross-sectional area\\n    C: Resistance\\n    D: Temperature\\n\\nSolution:  ',\n",
       "  'correct_answer': 'D',\n",
       "  'model_answer': 'D',\n",
       "  'model_response': \"To determine which factor affects the resistivity, let's analyze each option:\\n\\n**A: Length**  \\nLength affects the resistance of a material, not its resistivity. Resistance is directly proportional to the length of the conductor, but resistivity is an intrinsic property of the material itself.\\n\\n**B: Cross-sectional area**  \\nCross-sectional area also affects the resistance of a material, not its resistivity. Resistance is inversely proportional to the cross-sectional area, but resistivity remains constant for a given material.\\n\\n**C: Resistance**  \\nResistance is a property that depends on the material's resistivity, length, and cross-sectional area. However, resistivity is an intrinsic property of the material and is not directly affected by resistance.\\n\\n**D: Temperature**  \\nTemperature directly affects the resistivity of a material. For most materials, resistivity increases with temperature due to increased atomic vibrations that impede electron flow.\\n\\n**Final Answer:**  \\n**D: Temperature**\",\n",
       "  'reasoning': ' <answer_sheet_breakdown>\\n- Choices mentioned: [\"A\", \"B\", \"C\", \"D\"]\\n- Eliminated: [\"A\", \"B\"]\\n- Selection evidence: \"Final Answer: D: Temperature\"\\n- Uncertainty: [no]\\n</answer_sheet_breakdown>\\n<answer>D</answer>'},\n",
       " 401: {'id': 401,\n",
       "  'question': 'Instruction: Solve the problem, ensure your final answer includes the choice letter (A, B, C, or D).\\nQuestion: Given that the photon energy of red light is 2.93\\\\times10^{-19} J and the work function of sodium metal is 2.28 eV. What would happen if the red light shone on the sodium metal surface? [1 eV = 1.60 \\\\times 10^{-19} J]\\nChoices:\\n    A: The photoelectric effect does not occur.\\n    B: The electrons escape from the metal surface instantaneously.\\n    C: The maximum kinetic energy of photoelectrons increases.\\n    D: The light frequency exceeds the threshold frequency.\\n\\nSolution:  ',\n",
       "  'correct_answer': 'A',\n",
       "  'model_answer': 'A',\n",
       "  'model_response': 'To determine what happens when red light shines on the sodium metal surface, we need to compare the photon energy of the red light with the work function of sodium metal.\\n\\n1. **Convert the work function of sodium metal to joules:**\\n   \\\\[\\n   \\\\text{Work function} = 2.28 \\\\, \\\\text{eV} \\\\times 1.60 \\\\times 10^{-19} \\\\, \\\\text{J/eV} = 3.648 \\\\times 10^{-19} \\\\, \\\\text{J}\\n   \\\\]\\n\\n2. **Compare the photon energy of red light with the work function:**\\n   \\\\[\\n   \\\\text{Photon energy of red light} = 2.93 \\\\times 10^{-19} \\\\, \\\\text{J}\\n   \\\\]\\n   \\\\[\\n   2.93 \\\\times 10^{-19} \\\\, \\\\text{J} < 3.648 \\\\times 10^{-19} \\\\, \\\\text{J}\\n   \\\\]\\n\\nSince the photon energy of the red light is less than the work function of sodium metal, the photoelectric effect does not occur. The electrons will not be emitted from the metal surface.\\n\\n**Final Answer:** A: The photoelectric effect does not occur.',\n",
       "  'reasoning': ' <answer_sheet_breakdown>\\n- Choices mentioned: [\"A: The photoelectric effect does not occur\"]\\n- Eliminated: []\\n- Selection evidence: \"Final Answer: A: The photoelectric effect does not occur.\"\\n- Uncertainty: [no]\\n</answer_sheet_breakdown>\\n<answer>A</answer>'},\n",
       " 398: {'id': 398,\n",
       "  'question': 'Instruction: Solve the problem, ensure your final answer includes the choice letter (A, B, C, or D).\\nQuestion: Express  {\\\\frac 5{x+ 5}- \\\\frac {5x}{x^{2}+ 6x+ 5}}  as  a single fraction in its simplest form.\\nChoices:\\n    A: \\\\frac{5}{(x+1)(x+5)}\\n    B: \\\\frac{10}{(x+1)(x+5)}\\n    C: \\\\frac{5}{x+5}\\n    D: \\\\frac{10}{x+5}\\n\\nSolution:  ',\n",
       "  'correct_answer': 'A',\n",
       "  'model_answer': 'A',\n",
       "  'model_response': 'To solve the expression \\\\(\\\\frac{5}{x+5} - \\\\frac{5x}{x^{2}+6x+5}\\\\) and simplify it into a single fraction, follow these steps:\\n\\n1. **Factor the denominator of the second fraction:**\\n   \\\\[\\n   x^{2} + 6x + 5 = (x + 1)(x + 5)\\n   \\\\]\\n   So, the expression becomes:\\n   \\\\[\\n   \\\\frac{5}{x+5} - \\\\frac{5x}{(x+1)(x+5)}\\n   \\\\]\\n\\n2. **Find a common denominator:**\\n   The common denominator for both fractions is \\\\((x+1)(x+5)\\\\).\\n\\n3. **Rewrite each fraction with the common denominator:**\\n   \\\\[\\n   \\\\frac{5}{x+5} = \\\\frac{5(x+1)}{(x+1)(x+5)}\\n   \\\\]\\n   \\\\[\\n   \\\\frac{5x}{(x+1)(x+5)} = \\\\frac{5x}{(x+1)(x+5)}\\n   \\\\]\\n\\n4. **Combine the fractions:**\\n   \\\\[\\n   \\\\frac{5(x+1) - 5x}{(x+1)(x+5)}\\n   \\\\]\\n\\n5. **Simplify the numerator:**\\n   \\\\[\\n   5(x+1) - 5x = 5x + 5 - 5x = 5\\n   \\\\]\\n\\n6. **Write the simplified fraction:**\\n   \\\\[\\n   \\\\frac{5}{(x+1)(x+5)}\\n   \\\\]\\n\\nThe final answer is:\\n\\n**A: \\\\(\\\\frac{5}{(x+1)(x+5)}\\\\)**',\n",
       "  'reasoning': ' <answer_sheet_breakdown>\\n- Choices mentioned: [\"A\"]\\n- Eliminated: [\"B\", \"C\", \"D\", \"X\"]\\n- Selection evidence: \"The final answer is: A: ...\"\\n- Uncertainty: [no]\\n</answer_sheet_breakdown>\\n<answer>A</answer>'}}"
      ]
     },
     "execution_count": 10,
     "metadata": {},
     "output_type": "execute_result"
    }
   ],
   "source": [
    "evaluator.trace"
   ]
  }
 ],
 "metadata": {
  "kernelspec": {
   "display_name": "dev_base",
   "language": "python",
   "name": "python3"
  },
  "language_info": {
   "codemirror_mode": {
    "name": "ipython",
    "version": 3
   },
   "file_extension": ".py",
   "mimetype": "text/x-python",
   "name": "python",
   "nbconvert_exporter": "python",
   "pygments_lexer": "ipython3",
   "version": "3.11.5"
  }
 },
 "nbformat": 4,
 "nbformat_minor": 2
}
