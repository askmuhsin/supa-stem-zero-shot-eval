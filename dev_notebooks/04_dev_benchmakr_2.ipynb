{
 "cells": [
  {
   "cell_type": "code",
   "execution_count": null,
   "metadata": {},
   "outputs": [],
   "source": [
    "%load_ext autoreload\n",
    "%autoreload 2"
   ]
  },
  {
   "cell_type": "code",
   "execution_count": 1,
   "metadata": {},
   "outputs": [],
   "source": [
    "from dataset import load_dataset, get_formatted_questions\n",
    "from model import ModelConfig, get_completion\n",
    "from answer_evaluator import get_final_selection\n",
    "\n",
    "from dotenv import load_dotenv\n",
    "import logging"
   ]
  },
  {
   "cell_type": "code",
   "execution_count": 2,
   "metadata": {},
   "outputs": [
    {
     "data": {
      "text/plain": [
       "True"
      ]
     },
     "execution_count": 2,
     "metadata": {},
     "output_type": "execute_result"
    }
   ],
   "source": [
    "logging.basicConfig(level=logging.INFO)\n",
    "load_dotenv()"
   ]
  },
  {
   "cell_type": "code",
   "execution_count": 3,
   "metadata": {},
   "outputs": [
    {
     "name": "stdout",
     "output_type": "stream",
     "text": [
      "Model used -- \n",
      "ModelConfig(\n",
      "    model='deepseek-ai/DeepSeek-V3',\n",
      "    max_tokens=1000,\n",
      "    temperature=0.1,\n",
      "    top_p=0.1,\n",
      "    base_url='https://router.huggingface.co/together'\n",
      ")\n"
     ]
    }
   ],
   "source": [
    "print('Model used -- ')\n",
    "print(ModelConfig())"
   ]
  },
  {
   "cell_type": "code",
   "execution_count": 4,
   "metadata": {},
   "outputs": [
    {
     "name": "stderr",
     "output_type": "stream",
     "text": [
      "INFO:root:Loading dataset Supa-AI/STEM-en-ms with language 'en' and split 'eval'\n",
      "INFO:root:Dataset loaded. Shape: (614, 9)\n",
      "INFO:root:Filtering out questions with figures\n",
      "INFO:root:Filtered dataset shape: (322, 9)\n"
     ]
    }
   ],
   "source": [
    "data = load_dataset()\n",
    "problems = get_formatted_questions(data, sample_size=10)\n"
   ]
  },
  {
   "cell_type": "code",
   "execution_count": 5,
   "metadata": {},
   "outputs": [],
   "source": [
    "trace = {}"
   ]
  },
  {
   "cell_type": "code",
   "execution_count": 60,
   "metadata": {},
   "outputs": [
    {
     "name": "stdout",
     "output_type": "stream",
     "text": [
      "SKIPPING 498\n",
      "SKIPPING 187\n",
      "SKIPPING 312\n",
      "SKIPPING 114\n"
     ]
    },
    {
     "name": "stderr",
     "output_type": "stream",
     "text": [
      "INFO:httpx:HTTP Request: POST https://router.huggingface.co/together/chat/completions \"HTTP/1.1 200 OK\"\n",
      "INFO:root:Completion successful with tokens 440\n",
      "INFO:httpx:HTTP Request: POST https://router.huggingface.co/hf-inference/v1/chat/completions \"HTTP/1.1 200 OK\"\n",
      "INFO:root:Completion successful with tokens 822\n"
     ]
    },
    {
     "name": "stdout",
     "output_type": "stream",
     "text": [
      "SKIPPING 34\n",
      "SKIPPING 493\n",
      "SKIPPING 110\n",
      "SKIPPING 287\n",
      "SKIPPING 267\n"
     ]
    }
   ],
   "source": [
    "\n",
    "for id_, question, correct_answer in problems:\n",
    "    if id_ not in [560] and id_ in trace:\n",
    "        print(f'SKIPPING {id_}')\n",
    "        continue\n",
    "    model_response = get_completion(question)\n",
    "    model_answer, reasoning = get_final_selection(model_response)\n",
    "    trace[id_] = {\n",
    "        'id': id_,\n",
    "        'question': question,\n",
    "        'correct_answer': correct_answer,\n",
    "        'model_response': model_response,\n",
    "        'model_answer': model_answer,\n",
    "        'judge_reasoning': reasoning\n",
    "    }"
   ]
  },
  {
   "cell_type": "code",
   "execution_count": 61,
   "metadata": {},
   "outputs": [
    {
     "name": "stdout",
     "output_type": "stream",
     "text": [
      "0.4\n"
     ]
    }
   ],
   "source": [
    "score = 0\n",
    "total = len(trace)\n",
    "\n",
    "mistakes = []\n",
    "for id_, row in trace.items():\n",
    "    correct_answer = row['correct_answer']\n",
    "    model_answer = row['model_answer']\n",
    "\n",
    "    got_correct = correct_answer == model_answer\n",
    "    score += int(got_correct)\n",
    "\n",
    "    if not got_correct:\n",
    "        mistakes.append(row)\n",
    "        break\n",
    "\n",
    "accuracy = score / total\n",
    "print(accuracy)"
   ]
  },
  {
   "cell_type": "code",
   "execution_count": null,
   "metadata": {},
   "outputs": [],
   "source": []
  }
 ],
 "metadata": {
  "kernelspec": {
   "display_name": "dev_base",
   "language": "python",
   "name": "python3"
  },
  "language_info": {
   "codemirror_mode": {
    "name": "ipython",
    "version": 3
   },
   "file_extension": ".py",
   "mimetype": "text/x-python",
   "name": "python",
   "nbconvert_exporter": "python",
   "pygments_lexer": "ipython3",
   "version": "3.11.5"
  }
 },
 "nbformat": 4,
 "nbformat_minor": 2
}
