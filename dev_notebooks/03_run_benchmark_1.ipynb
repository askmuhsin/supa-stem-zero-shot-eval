{
 "cells": [
  {
   "cell_type": "code",
   "execution_count": 1,
   "metadata": {},
   "outputs": [],
   "source": [
    "%load_ext autoreload\n",
    "%autoreload 2"
   ]
  },
  {
   "cell_type": "code",
   "execution_count": 15,
   "metadata": {},
   "outputs": [],
   "source": [
    "from dataset import load_dataset, get_formatted_questions\n",
    "from model import ModelConfig, get_completion\n",
    "from answer_evaluator import get_final_selection\n",
    "\n",
    "from dotenv import load_dotenv\n",
    "import logging"
   ]
  },
  {
   "cell_type": "code",
   "execution_count": 3,
   "metadata": {},
   "outputs": [
    {
     "data": {
      "text/plain": [
       "True"
      ]
     },
     "execution_count": 3,
     "metadata": {},
     "output_type": "execute_result"
    }
   ],
   "source": [
    "logging.basicConfig(level=logging.INFO)\n",
    "load_dotenv()"
   ]
  },
  {
   "cell_type": "code",
   "execution_count": 4,
   "metadata": {},
   "outputs": [
    {
     "name": "stdout",
     "output_type": "stream",
     "text": [
      "ModelConfig(\n",
      "    model='deepseek-ai/DeepSeek-V3',\n",
      "    max_tokens=500,\n",
      "    temperature=0.1,\n",
      "    top_p=0.1,\n",
      "    base_url='https://router.huggingface.co/together'\n",
      ")\n"
     ]
    }
   ],
   "source": [
    "print(ModelConfig())"
   ]
  },
  {
   "cell_type": "code",
   "execution_count": 8,
   "metadata": {},
   "outputs": [
    {
     "name": "stderr",
     "output_type": "stream",
     "text": [
      "INFO:root:Loading dataset Supa-AI/STEM-en-ms with language 'en' and split 'eval'\n",
      "INFO:root:Dataset loaded. Shape: (614, 9)\n",
      "INFO:root:Filtering out questions with figures\n",
      "INFO:root:Filtered dataset shape: (322, 9)\n"
     ]
    }
   ],
   "source": [
    "data = load_dataset()"
   ]
  },
  {
   "cell_type": "code",
   "execution_count": 9,
   "metadata": {},
   "outputs": [],
   "source": [
    "questions = get_formatted_questions(data, sample_size=2)\n"
   ]
  },
  {
   "cell_type": "code",
   "execution_count": 10,
   "metadata": {},
   "outputs": [
    {
     "data": {
      "text/plain": [
       "[(221,\n",
       "  'Question: Given the standard deviation of a set of data {x_{1},x_{2},x_{3},...,x_{n} is α. Find the variance of the set of data 4(x_{1}-3), 4(x_{2}-3), 4(x_{3}-3),..., 4(x_{n}-3).\\nChoices:\\n    A: 4α\\n    B: 2α^{2}\\n    C: 4α^2\\n    D: 16α^{2}\\n\\nAnswer: ',\n",
       "  'D'),\n",
       " (120,\n",
       "  'Question: Simplify: \\\\frac{2^5 \\\\times 3^6}{18}\\nChoices:\\n    A: 2^4 × 3^4\\n    B: 2^4 × 3^5\\n    C: 2^6 × 3^7\\n    D: 2^6 × 3^9\\n\\nAnswer: ',\n",
       "  'A')]"
      ]
     },
     "execution_count": 10,
     "metadata": {},
     "output_type": "execute_result"
    }
   ],
   "source": [
    "questions"
   ]
  },
  {
   "cell_type": "code",
   "execution_count": 12,
   "metadata": {},
   "outputs": [
    {
     "name": "stdout",
     "output_type": "stream",
     "text": [
      "Question: Given the standard deviation of a set of data {x_{1},x_{2},x_{3},...,x_{n} is α. Find the variance of the set of data 4(x_{1}-3), 4(x_{2}-3), 4(x_{3}-3),..., 4(x_{n}-3).\n",
      "Choices:\n",
      "    A: 4α\n",
      "    B: 2α^{2}\n",
      "    C: 4α^2\n",
      "    D: 16α^{2}\n",
      "\n",
      "Answer: \n"
     ]
    },
    {
     "name": "stderr",
     "output_type": "stream",
     "text": [
      "INFO:httpx:HTTP Request: POST https://router.huggingface.co/together/chat/completions \"HTTP/1.1 200 OK\"\n",
      "INFO:root:Completion successful with tokens 430\n"
     ]
    },
    {
     "name": "stdout",
     "output_type": "stream",
     "text": [
      "To find the variance of the transformed data set \\( \\{4(x_1 - 3), 4(x_2 - 3), \\ldots, 4(x_n - 3)\\} \\), we can follow these steps:\n",
      "\n",
      "1. **Understand the Given Information:**\n",
      "   - The standard deviation of the original data set \\( \\{x_1, x_2, \\ldots, x_n\\} \\) is \\( \\alpha \\).\n",
      "   - Therefore, the variance of the original data set is \\( \\alpha^2 \\).\n",
      "\n",
      "2. **Apply the Transformation:**\n",
      "   - Each data point is transformed as \\( y_i = 4(x_i - 3) \\).\n",
      "   - This transformation involves two operations:\n",
      "     - **Subtracting a constant (3):** This shifts the data but does not affect the variance.\n",
      "     - **Multiplying by a constant (4):** This scales the data and affects the variance.\n",
      "\n",
      "3. **Calculate the Variance of the Transformed Data:**\n",
      "   - The variance of \\( y_i = 4(x_i - 3) \\) is given by:\n",
      "     \\[\n",
      "     \\text{Var}(y_i) = \\text{Var}(4(x_i - 3)) = 4^2 \\cdot \\text{Var}(x_i) = 16 \\cdot \\alpha^2\n",
      "     \\]\n",
      "\n",
      "4. **Conclusion:**\n",
      "   - The variance of the transformed data set is \\( 16\\alpha^2 \\).\n",
      "\n",
      "**Final Answer:** \\(\\boxed{D}\\)\n"
     ]
    }
   ],
   "source": [
    "for _, question, answer in questions:\n",
    "    print(question)\n",
    "    response = get_completion(question)\n",
    "    print(response)\n",
    "    break"
   ]
  },
  {
   "cell_type": "code",
   "execution_count": 14,
   "metadata": {},
   "outputs": [
    {
     "name": "stdout",
     "output_type": "stream",
     "text": [
      "To find the variance of the transformed data set \\( \\{4(x_1 - 3), 4(x_2 - 3), \\ldots, 4(x_n - 3)\\} \\), we can follow these steps:\n",
      "\n",
      "1. **Understand the Given Information:**\n",
      "   - The standard deviation of the original data set \\( \\{x_1, x_2, \\ldots, x_n\\} \\) is \\( \\alpha \\).\n",
      "   - Therefore, the variance of the original data set is \\( \\alpha^2 \\).\n",
      "\n",
      "2. **Apply the Transformation:**\n",
      "   - Each data point is transformed as \\( y_i = 4(x_i - 3) \\).\n",
      "   - This transformation involves two operations:\n",
      "     - **Subtracting a constant (3):** This shifts the data but does not affect the variance.\n",
      "     - **Multiplying by a constant (4):** This scales the data and affects the variance.\n",
      "\n",
      "3. **Calculate the Variance of the Transformed Data:**\n",
      "   - The variance of \\( y_i = 4(x_i - 3) \\) is given by:\n",
      "     \\[\n",
      "     \\text{Var}(y_i) = \\text{Var}(4(x_i - 3)) = 4^2 \\cdot \\text{Var}(x_i) = 16 \\cdot \\alpha^2\n",
      "     \\]\n",
      "\n",
      "4. **Conclusion:**\n",
      "   - The variance of the transformed data set is \\( 16\\alpha^2 \\).\n",
      "\n",
      "**Final Answer:** \\(\\boxed{D}\\)\n"
     ]
    }
   ],
   "source": [
    "print(response)"
   ]
  },
  {
   "cell_type": "code",
   "execution_count": 33,
   "metadata": {},
   "outputs": [
    {
     "name": "stderr",
     "output_type": "stream",
     "text": [
      "INFO:httpx:HTTP Request: POST https://router.huggingface.co/hf-inference/v1/chat/completions \"HTTP/1.1 200 OK\"\n",
      "INFO:root:Completion successful with tokens 526\n"
     ]
    }
   ],
   "source": [
    "test_answer = \"\"\"I think the answer is B because it matches the pattern. \n",
    "I considered A but it doesn't work because of the constraints.\n",
    "Definitely not C or D.\"\"\"\n",
    "answer, reasoning = get_final_selection(test_answer)"
   ]
  },
  {
   "cell_type": "code",
   "execution_count": 36,
   "metadata": {},
   "outputs": [
    {
     "data": {
      "text/plain": [
       "'B'"
      ]
     },
     "execution_count": 36,
     "metadata": {},
     "output_type": "execute_result"
    }
   ],
   "source": [
    "answer"
   ]
  },
  {
   "cell_type": "code",
   "execution_count": 35,
   "metadata": {},
   "outputs": [
    {
     "name": "stdout",
     "output_type": "stream",
     "text": [
      " <answer_sheet_breakdown>\n",
      "1. Answer choices mentioned: A, B, C, D.\n",
      "2. Crossed-out or eliminated answers: None.\n",
      "3. Language indicating final selection: \"I think the answer is B because it matches the pattern.\"\n",
      "4. Uncertainty: No.\n",
      "</answer_sheet_breakdown>\n",
      "\n",
      "<answer>\n",
      "B\n",
      "</answer>\n"
     ]
    }
   ],
   "source": [
    "print(reasoning)"
   ]
  },
  {
   "cell_type": "code",
   "execution_count": null,
   "metadata": {},
   "outputs": [],
   "source": []
  }
 ],
 "metadata": {
  "kernelspec": {
   "display_name": "dev_base",
   "language": "python",
   "name": "python3"
  },
  "language_info": {
   "codemirror_mode": {
    "name": "ipython",
    "version": 3
   },
   "file_extension": ".py",
   "mimetype": "text/x-python",
   "name": "python",
   "nbconvert_exporter": "python",
   "pygments_lexer": "ipython3",
   "version": "3.11.5"
  }
 },
 "nbformat": 4,
 "nbformat_minor": 2
}
